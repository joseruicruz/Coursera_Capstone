{
    "cells": [
        {
            "cell_type": "code",
            "execution_count": 225,
            "metadata": {},
            "outputs": [],
            "source": "import pandas as pd\nimport numpy as np\nfrom bs4 import BeautifulSoup\nimport matplotlib.pyplot as plt\nimport seaborn as sns\nfrom urllib.request import urlopen"
        },
        {
            "cell_type": "markdown",
            "metadata": {},
            "source": "# Part 1 - Cleaning Data"
        },
        {
            "cell_type": "code",
            "execution_count": 226,
            "metadata": {},
            "outputs": [
                {
                    "name": "stderr",
                    "output_type": "stream",
                    "text": "/opt/conda/envs/Python36/lib/python3.6/site-packages/ipykernel/__main__.py:28: FutureWarning: get_value is deprecated and will be removed in a future release. Please use .at[] or .iat[] accessors instead\n"
                },
                {
                    "data": {
                        "text/html": "<div>\n<style scoped>\n    .dataframe tbody tr th:only-of-type {\n        vertical-align: middle;\n    }\n\n    .dataframe tbody tr th {\n        vertical-align: top;\n    }\n\n    .dataframe thead th {\n        text-align: right;\n    }\n</style>\n<table border=\"1\" class=\"dataframe\">\n  <thead>\n    <tr style=\"text-align: right;\">\n      <th></th>\n      <th>PostalCode</th>\n      <th>Borough</th>\n      <th>Neighborhood</th>\n    </tr>\n  </thead>\n  <tbody>\n    <tr>\n      <th>3</th>\n      <td>M3A</td>\n      <td>North York</td>\n      <td>Parkwoods</td>\n    </tr>\n    <tr>\n      <th>4</th>\n      <td>M4A</td>\n      <td>North York</td>\n      <td>Victoria Village</td>\n    </tr>\n    <tr>\n      <th>5</th>\n      <td>M5A</td>\n      <td>Downtown Toronto</td>\n      <td>Regent Park, Harbourfront</td>\n    </tr>\n    <tr>\n      <th>6</th>\n      <td>M6A</td>\n      <td>North York</td>\n      <td>Lawrence Manor, Lawrence Heights</td>\n    </tr>\n    <tr>\n      <th>7</th>\n      <td>M7A</td>\n      <td>Downtown Toronto</td>\n      <td>Queen's Park, Ontario Provincial Government</td>\n    </tr>\n  </tbody>\n</table>\n</div>",
                        "text/plain": "  PostalCode            Borough                                  Neighborhood\n3        M3A         North York                                     Parkwoods\n4        M4A         North York                              Victoria Village\n5        M5A   Downtown Toronto                     Regent Park, Harbourfront\n6        M6A         North York              Lawrence Manor, Lawrence Heights\n7        M7A   Downtown Toronto   Queen's Park, Ontario Provincial Government"
                    },
                    "execution_count": 226,
                    "metadata": {},
                    "output_type": "execute_result"
                }
            ],
            "source": "url = \"https://en.wikipedia.org/wiki/List_of_postal_codes_of_Canada:_M\"\nhtml =urlopen(url)\nsoup = BeautifulSoup(html, 'lxml')\nrows = soup.find_all('tr')\nimport re\n\nlist_rows = []\nfor row in rows:\n    cells = row.find_all('td')\n    str_cells = str(cells)\n    clean = re.compile('<.*?>')\n    clean2 = (re.sub(clean, '',str_cells))\n    list_rows.append(clean2)\ndf = pd.DataFrame(list_rows)\ndf1 = df[0].str.split(',', expand=True)\ndropcolumns = []\nfor n in range(3,31):\n    dropcolumns.append(n)\ndf = df1.drop(dropcolumns,axis = 1)\ndf[0] = df[0].str.replace('\\n','',)\ndf[0] = df[0].str.replace('[','',)\ndf[1] = df[1].str.replace('\\n','',)\ndf[2] = df[2].str.replace('\\n','',)\ndf[2] = df[2].str.replace(']','',)\ndf[2] = df[2].str.replace(' / ',', ',)\ndf = df.rename(columns={0: \"PostalCode\", 1: \"Borough\", 2: \"Neighborhood\"})\ndf = df.drop(df.index[0])\nnotass = df.get_value(0, 1, takeable = True)\ndf = df[df.Borough != notass]\ndf.head()"
        },
        {
            "cell_type": "markdown",
            "metadata": {},
            "source": "# Part 2 - Adding Latitude and Longitude"
        },
        {
            "cell_type": "code",
            "execution_count": 227,
            "metadata": {
                "collapsed": true
            },
            "outputs": [
                {
                    "name": "stdout",
                    "output_type": "stream",
                    "text": "--2020-04-11 17:31:48--  http://cocl.us/Geospatial_data\nResolving cocl.us (cocl.us)... 159.8.69.24, 159.8.72.228, 159.8.69.21\nConnecting to cocl.us (cocl.us)|159.8.69.24|:80... connected.\nHTTP request sent, awaiting response... 301 Moved Permanently\nLocation: https://cocl.us/Geospatial_data [following]\n--2020-04-11 17:31:48--  https://cocl.us/Geospatial_data\nConnecting to cocl.us (cocl.us)|159.8.69.24|:443... connected.\nHTTP request sent, awaiting response... 301 Moved Permanently\nLocation: https://ibm.box.com/shared/static/9afzr83pps4pwf2smjjcf1y5mvgb18rr.csv [following]\n--2020-04-11 17:31:49--  https://ibm.box.com/shared/static/9afzr83pps4pwf2smjjcf1y5mvgb18rr.csv\nResolving ibm.box.com (ibm.box.com)... 107.152.27.197, 107.152.26.197\nConnecting to ibm.box.com (ibm.box.com)|107.152.27.197|:443... connected.\nHTTP request sent, awaiting response... 301 Moved Permanently\nLocation: /public/static/9afzr83pps4pwf2smjjcf1y5mvgb18rr.csv [following]\n--2020-04-11 17:31:50--  https://ibm.box.com/public/static/9afzr83pps4pwf2smjjcf1y5mvgb18rr.csv\nReusing existing connection to ibm.box.com:443.\nHTTP request sent, awaiting response... 301 Moved Permanently\nLocation: https://ibm.ent.box.com/public/static/9afzr83pps4pwf2smjjcf1y5mvgb18rr.csv [following]\n--2020-04-11 17:31:51--  https://ibm.ent.box.com/public/static/9afzr83pps4pwf2smjjcf1y5mvgb18rr.csv\nResolving ibm.ent.box.com (ibm.ent.box.com)... 185.235.236.211\nConnecting to ibm.ent.box.com (ibm.ent.box.com)|185.235.236.211|:443... connected.\nHTTP request sent, awaiting response... 302 Found\nLocation: https://public.boxcloud.com/d/1/b1!b4O8XdcnPf-RUvYtP_uAaw136n8XuCC4I3reyA8LLn5Y8buYbuYZLikswMGzN32FXg379aZ32nAyeWIu253jL0iXfm2ar3LbXKbWL2RcbDibyCblvHX-pdaWA5XQ7PQgpqiKEYfGXyZc2350vyNoRWMMIwuF9OpcnNi8iyu_A6_t1xKSjyMzKaATrFO8hL5S75M9jTqzIGLbTtGVVio1qEQ1L4JdxD3en_y8v8-hJ4ZXFIwjJMs5HsCYxo9mPntR1eYBV-4WVs3ohn7ijQRmL-al-eBdjVhUJROeR2_dElRY2XuoBGZrlD5nKLwj5YTDwDIecS031V_NwLz55Mu48ro6OkLY1BKrzMYykGSIkJ2IjUtUSFLKi5z0xL4ROiE4hibqDj35sNMJs86oFbw-ZRZPkYEX_8PUX2tEHd654ARBcVMOqxVmLQuz8TS87djknQVdb7hX6qhKjQoPtida67gF4908IVK6V8f6LZUiZS6gcw5jtuvUjpY37PHGHQICpnHbjTxLt1nns5hAzh89KBIz6qcNNyknWDcnJR5sJGFXK_jrUFNbMZmhzdduMdXyejeD12prxmJd0Ik3yWdHBo0JAXlHKzKo2ai_P8EZir4a5p6141LW8Yaq4mcdBy1-VtJJQQT7YzGrtU8pMdWxdaaBvCdMGBjLbzKD247BLMRgsVNmbdRFAwqbwHDaDaa_hYxNHI6TkznJ8YjNxriRr5YSBNaaSzyjoqjO7LSdlA06VXbzklawKkYRFQFlvvQuQd-INYe-cJAhRwDiW59gnbTtd6LYG_M2cdYsvk6WYeLN2xDLlKZ43tV2jDjA8znnZcXiaRTgU77zkJMXcf_jJQvMdoM1XwdkQQJ9Scmvwxo1IwK6WbFEkPAUWNhpolhziKNUKCS2RFUL7eXb3Ti7MW4qUkb5LIEBOM3nxCPYBxaX2YLuglMTcAeKU_0yN6gGDzuB8HjBdZLdDWnU0KzpYNBeH5Ubj_Mxe7grvaYfNBk7LmDrOGxNDhGFynvNvV1NnrC7j26Myl790Kx7Y6iQN6JBTFzOtNkia40abx1eMlF3a5oqP8txyER9TqcQkSFbrTfnv1-not6P2UPP_nuLikmSxxzRVZuxxBUeyC_HG1Y2dYYW2MiLZosX1STIQp0Ja9cXNaEkmXpuOTtRiCycwK2yy5z7HSHLsI4TRl8QbDy_qxlUYCj1FNsKv7qBMqfmaxf9lc4bxviFhTEfqGgJ1JTHGVx8Hj1XWYVDcGHi_IFVs__kI0LWDRzT07ZRpZJT7mqL3pVVw2R7tQS0TmvTQvzw4gu9bOTIkVhck9xWKUpvEZZIktQxlywtXCZZubCXIn4iyKpmZ7tpsHgG-R_k82sucza_hqNRCVVor9H8Tf_bKglbjhRQYtAm4pQi-IBL3yu1Tj8joEltXcYbsWihQl60YCsQa6tRh4Kh9qKYKZu1gz4./download [following]\n--2020-04-11 17:31:52--  https://public.boxcloud.com/d/1/b1!b4O8XdcnPf-RUvYtP_uAaw136n8XuCC4I3reyA8LLn5Y8buYbuYZLikswMGzN32FXg379aZ32nAyeWIu253jL0iXfm2ar3LbXKbWL2RcbDibyCblvHX-pdaWA5XQ7PQgpqiKEYfGXyZc2350vyNoRWMMIwuF9OpcnNi8iyu_A6_t1xKSjyMzKaATrFO8hL5S75M9jTqzIGLbTtGVVio1qEQ1L4JdxD3en_y8v8-hJ4ZXFIwjJMs5HsCYxo9mPntR1eYBV-4WVs3ohn7ijQRmL-al-eBdjVhUJROeR2_dElRY2XuoBGZrlD5nKLwj5YTDwDIecS031V_NwLz55Mu48ro6OkLY1BKrzMYykGSIkJ2IjUtUSFLKi5z0xL4ROiE4hibqDj35sNMJs86oFbw-ZRZPkYEX_8PUX2tEHd654ARBcVMOqxVmLQuz8TS87djknQVdb7hX6qhKjQoPtida67gF4908IVK6V8f6LZUiZS6gcw5jtuvUjpY37PHGHQICpnHbjTxLt1nns5hAzh89KBIz6qcNNyknWDcnJR5sJGFXK_jrUFNbMZmhzdduMdXyejeD12prxmJd0Ik3yWdHBo0JAXlHKzKo2ai_P8EZir4a5p6141LW8Yaq4mcdBy1-VtJJQQT7YzGrtU8pMdWxdaaBvCdMGBjLbzKD247BLMRgsVNmbdRFAwqbwHDaDaa_hYxNHI6TkznJ8YjNxriRr5YSBNaaSzyjoqjO7LSdlA06VXbzklawKkYRFQFlvvQuQd-INYe-cJAhRwDiW59gnbTtd6LYG_M2cdYsvk6WYeLN2xDLlKZ43tV2jDjA8znnZcXiaRTgU77zkJMXcf_jJQvMdoM1XwdkQQJ9Scmvwxo1IwK6WbFEkPAUWNhpolhziKNUKCS2RFUL7eXb3Ti7MW4qUkb5LIEBOM3nxCPYBxaX2YLuglMTcAeKU_0yN6gGDzuB8HjBdZLdDWnU0KzpYNBeH5Ubj_Mxe7grvaYfNBk7LmDrOGxNDhGFynvNvV1NnrC7j26Myl790Kx7Y6iQN6JBTFzOtNkia40abx1eMlF3a5oqP8txyER9TqcQkSFbrTfnv1-not6P2UPP_nuLikmSxxzRVZuxxBUeyC_HG1Y2dYYW2MiLZosX1STIQp0Ja9cXNaEkmXpuOTtRiCycwK2yy5z7HSHLsI4TRl8QbDy_qxlUYCj1FNsKv7qBMqfmaxf9lc4bxviFhTEfqGgJ1JTHGVx8Hj1XWYVDcGHi_IFVs__kI0LWDRzT07ZRpZJT7mqL3pVVw2R7tQS0TmvTQvzw4gu9bOTIkVhck9xWKUpvEZZIktQxlywtXCZZubCXIn4iyKpmZ7tpsHgG-R_k82sucza_hqNRCVVor9H8Tf_bKglbjhRQYtAm4pQi-IBL3yu1Tj8joEltXcYbsWihQl60YCsQa6tRh4Kh9qKYKZu1gz4./download\nResolving public.boxcloud.com (public.boxcloud.com)... 185.235.236.200\nConnecting to public.boxcloud.com (public.boxcloud.com)|185.235.236.200|:443... connected.\nHTTP request sent, awaiting response... 200 OK\nLength: 2891 (2.8K) [text/csv]\nSaving to: \u2018Geospatial_data.1\u2019\n\n100%[======================================>] 2,891       --.-K/s   in 0s      \n\n2020-04-11 17:31:52 (220 MB/s) - \u2018Geospatial_data.1\u2019 saved [2891/2891]\n\n"
                }
            ],
            "source": "!wget http://cocl.us/Geospatial_data"
        },
        {
            "cell_type": "code",
            "execution_count": 228,
            "metadata": {},
            "outputs": [
                {
                    "data": {
                        "text/html": "<div>\n<style scoped>\n    .dataframe tbody tr th:only-of-type {\n        vertical-align: middle;\n    }\n\n    .dataframe tbody tr th {\n        vertical-align: top;\n    }\n\n    .dataframe thead th {\n        text-align: right;\n    }\n</style>\n<table border=\"1\" class=\"dataframe\">\n  <thead>\n    <tr style=\"text-align: right;\">\n      <th></th>\n      <th>PostalCode</th>\n      <th>Borough</th>\n      <th>Neighborhood</th>\n      <th>Latitude</th>\n      <th>Longitude</th>\n    </tr>\n  </thead>\n  <tbody>\n    <tr>\n      <th>0</th>\n      <td>M3A</td>\n      <td>North York</td>\n      <td>Parkwoods</td>\n      <td>43.753259</td>\n      <td>-79.329656</td>\n    </tr>\n    <tr>\n      <th>1</th>\n      <td>M4A</td>\n      <td>North York</td>\n      <td>Victoria Village</td>\n      <td>43.725882</td>\n      <td>-79.315572</td>\n    </tr>\n    <tr>\n      <th>2</th>\n      <td>M5A</td>\n      <td>Downtown Toronto</td>\n      <td>Regent Park, Harbourfront</td>\n      <td>43.654260</td>\n      <td>-79.360636</td>\n    </tr>\n    <tr>\n      <th>3</th>\n      <td>M6A</td>\n      <td>North York</td>\n      <td>Lawrence Manor, Lawrence Heights</td>\n      <td>43.718518</td>\n      <td>-79.464763</td>\n    </tr>\n    <tr>\n      <th>4</th>\n      <td>M7A</td>\n      <td>Downtown Toronto</td>\n      <td>Queen's Park, Ontario Provincial Government</td>\n      <td>43.662301</td>\n      <td>-79.389494</td>\n    </tr>\n  </tbody>\n</table>\n</div>",
                        "text/plain": "  PostalCode            Borough                                  Neighborhood  \\\n0        M3A         North York                                     Parkwoods   \n1        M4A         North York                              Victoria Village   \n2        M5A   Downtown Toronto                     Regent Park, Harbourfront   \n3        M6A         North York              Lawrence Manor, Lawrence Heights   \n4        M7A   Downtown Toronto   Queen's Park, Ontario Provincial Government   \n\n    Latitude  Longitude  \n0  43.753259 -79.329656  \n1  43.725882 -79.315572  \n2  43.654260 -79.360636  \n3  43.718518 -79.464763  \n4  43.662301 -79.389494  "
                    },
                    "execution_count": 228,
                    "metadata": {},
                    "output_type": "execute_result"
                }
            ],
            "source": "geo = pd.read_csv('Geospatial_data')\ngeo.columns = ['PostalCode', 'Latitude', 'Longitude']\n\ndf = pd.merge(df, geo, on='PostalCode', how='inner')\ndf.head()"
        },
        {
            "cell_type": "markdown",
            "metadata": {},
            "source": "# Part 3 - Clustering"
        },
        {
            "cell_type": "code",
            "execution_count": 235,
            "metadata": {},
            "outputs": [],
            "source": "CLIENT_ID = \"QE2ODWO2XJJTQYI2DKWFXYPZILBBZGFWPDY01YMESE0HILXL\"\nCLIENT_SECRET = \"PZVH1IG3WJO11AJS4VF350UCTBNNUO3NURBYWXCKLNAJNEWE\"\nVERSION = \"20200411\""
        },
        {
            "cell_type": "code",
            "execution_count": 236,
            "metadata": {},
            "outputs": [],
            "source": "\nimport json # library to handle JSON files\n\n#!conda install -c conda-forge geopy --yes # uncomment this line if you haven't completed the Foursquare API lab\nfrom geopy.geocoders import Nominatim # convert an address into latitude and longitude values\n\nimport requests\n\nimport matplotlib.cm as cm\nimport matplotlib.colors as colors\n\n# import k-means from clustering stage\nfrom sklearn.cluster import KMeans\n\ndef getNearbyVenues(names, latitudes, longitudes, radius=500):\n    LIMIT = 100\n    venues_list=[]\n    for name, lat, lng in zip(names, latitudes, longitudes):\n        print(name)\n            \n        # create the API request URL\n        url = 'https://api.foursquare.com/v2/venues/explore?&client_id={}&client_secret={}&v={}&ll={},{}&radius={}&limit={}'.format(\n            CLIENT_ID, \n            CLIENT_SECRET, \n            VERSION, \n            lat, \n            lng, \n            radius, \n            LIMIT)\n            \n        # make the GET request\n        results = requests.get(url).json()[\"response\"]['groups'][0]['items']\n        \n        # return only relevant information for each nearby venue\n        venues_list.append([(\n            name, \n            lat, \n            lng, \n            v['venue']['name'], \n            v['venue']['location']['lat'], \n            v['venue']['location']['lng'],  \n            v['venue']['categories'][0]['name']) for v in results])\n\n    nearby_venues = pd.DataFrame([item for venue_list in venues_list for item in venue_list])\n    nearby_venues.columns = ['Neighborhood', \n                  'Neighborhood Latitude', \n                  'Neighborhood Longitude', \n                  'Venue', \n                  'Venue Latitude', \n                  'Venue Longitude', \n                  'Venue Category']\n    \n    return(nearby_venues)\n\n# function that extracts the category of the venue\ndef get_category_type(row):\n    try:\n        categories_list = row['categories']\n    except:\n        categories_list = row['venue.categories']\n        \n    if len(categories_list) == 0:\n        return None\n    else:\n        return categories_list[0]['name']\n\ndef return_most_common_venues(row, num_top_venues):\n    row_categories = row.iloc[1:]\n    row_categories_sorted = row_categories.sort_values(ascending=False)\n    \n    return row_categories_sorted.index.values[0:num_top_venues]"
        },
        {
            "cell_type": "code",
            "execution_count": 240,
            "metadata": {},
            "outputs": [
                {
                    "name": "stdout",
                    "output_type": "stream",
                    "text": " Regent Park, Harbourfront\n Queen's Park, Ontario Provincial Government\n Garden District\n St. James Town\n The Beaches\n Berczy Park\n Central Bay Street\n Christie\n Richmond, Adelaide, King\n Dufferin, Dovercourt Village\n Harbourfront East, Union Station, Toronto Islands\n Little Portugal, Trinity\n The Danforth West, Riverdale\n Toronto Dominion Centre, Design Exchange\n Brockton, Parkdale Village, Exhibition Place\n India Bazaar, The Beaches West\n Commerce Court, Victoria Hotel\n Studio District\n Lawrence Park\n Roselawn\n Davisville North\n Forest Hill North &amp; West\n High Park, The Junction South\n North Toronto West\n The Annex, North Midtown, Yorkville\n Parkdale, Roncesvalles\n Davisville\n University of Toronto, Harbord\n Runnymede, Swansea\n Moore Park, Summerhill East\n Kensington Market, Chinatown, Grange Park\n Summerhill West, Rathnelly, South Hill, Forest Hill SE, Deer Park\n CN Tower, King and Spadina, Railway Lands, Harbourfront West, Bathurst Quay, South Niagara, Island airport\n Rosedale\n Stn A PO Boxes\n St. James Town, Cabbagetown\n First Canadian Place, Underground city\n Church and Wellesley\n Business reply mail Processing CentrE\n"
                },
                {
                    "data": {
                        "text/html": "<div>\n<style scoped>\n    .dataframe tbody tr th:only-of-type {\n        vertical-align: middle;\n    }\n\n    .dataframe tbody tr th {\n        vertical-align: top;\n    }\n\n    .dataframe thead th {\n        text-align: right;\n    }\n</style>\n<table border=\"1\" class=\"dataframe\">\n  <thead>\n    <tr style=\"text-align: right;\">\n      <th></th>\n      <th>PostalCode</th>\n      <th>Neighborhood</th>\n      <th>Latitude</th>\n      <th>Longitude</th>\n      <th>Cluster Labels</th>\n      <th>1st Most Common Venue</th>\n      <th>2nd Most Common Venue</th>\n      <th>3rd Most Common Venue</th>\n      <th>4th Most Common Venue</th>\n      <th>5th Most Common Venue</th>\n      <th>6th Most Common Venue</th>\n      <th>7th Most Common Venue</th>\n      <th>8th Most Common Venue</th>\n      <th>9th Most Common Venue</th>\n      <th>10th Most Common Venue</th>\n    </tr>\n    <tr>\n      <th>Borough</th>\n      <th></th>\n      <th></th>\n      <th></th>\n      <th></th>\n      <th></th>\n      <th></th>\n      <th></th>\n      <th></th>\n      <th></th>\n      <th></th>\n      <th></th>\n      <th></th>\n      <th></th>\n      <th></th>\n      <th></th>\n    </tr>\n  </thead>\n  <tbody>\n    <tr>\n      <th>Downtown Toronto</th>\n      <td>M5A</td>\n      <td>Regent Park, Harbourfront</td>\n      <td>43.654260</td>\n      <td>-79.360636</td>\n      <td>0</td>\n      <td>Coffee Shop</td>\n      <td>Park</td>\n      <td>Bakery</td>\n      <td>Pub</td>\n      <td>Breakfast Spot</td>\n      <td>Caf\u00e9</td>\n      <td>Mexican Restaurant</td>\n      <td>Farmers Market</td>\n      <td>Chocolate Shop</td>\n      <td>French Restaurant</td>\n    </tr>\n    <tr>\n      <th>Downtown Toronto</th>\n      <td>M7A</td>\n      <td>Queen's Park, Ontario Provincial Government</td>\n      <td>43.662301</td>\n      <td>-79.389494</td>\n      <td>0</td>\n      <td>Coffee Shop</td>\n      <td>Diner</td>\n      <td>Yoga Studio</td>\n      <td>Beer Bar</td>\n      <td>Distribution Center</td>\n      <td>Discount Store</td>\n      <td>Mexican Restaurant</td>\n      <td>Bar</td>\n      <td>Bank</td>\n      <td>Caf\u00e9</td>\n    </tr>\n    <tr>\n      <th>Downtown Toronto</th>\n      <td>M5B</td>\n      <td>Garden District</td>\n      <td>43.657162</td>\n      <td>-79.378937</td>\n      <td>0</td>\n      <td>Coffee Shop</td>\n      <td>Clothing Store</td>\n      <td>Cosmetics Shop</td>\n      <td>Bubble Tea Shop</td>\n      <td>Middle Eastern Restaurant</td>\n      <td>Japanese Restaurant</td>\n      <td>Italian Restaurant</td>\n      <td>Caf\u00e9</td>\n      <td>Fast Food Restaurant</td>\n      <td>Electronics Store</td>\n    </tr>\n    <tr>\n      <th>Downtown Toronto</th>\n      <td>M5C</td>\n      <td>St. James Town</td>\n      <td>43.651494</td>\n      <td>-79.375418</td>\n      <td>0</td>\n      <td>Caf\u00e9</td>\n      <td>Coffee Shop</td>\n      <td>Cocktail Bar</td>\n      <td>American Restaurant</td>\n      <td>Beer Bar</td>\n      <td>Italian Restaurant</td>\n      <td>Hotel</td>\n      <td>Restaurant</td>\n      <td>Diner</td>\n      <td>Cosmetics Shop</td>\n    </tr>\n    <tr>\n      <th>East Toronto</th>\n      <td>M4E</td>\n      <td>The Beaches</td>\n      <td>43.676357</td>\n      <td>-79.293031</td>\n      <td>0</td>\n      <td>Health Food Store</td>\n      <td>Trail</td>\n      <td>Pub</td>\n      <td>Women's Store</td>\n      <td>Deli / Bodega</td>\n      <td>Electronics Store</td>\n      <td>Eastern European Restaurant</td>\n      <td>Dumpling Restaurant</td>\n      <td>Donut Shop</td>\n      <td>Doner Restaurant</td>\n    </tr>\n  </tbody>\n</table>\n</div>",
                        "text/plain": "                  PostalCode                                  Neighborhood  \\\nBorough                                                                      \n Downtown Toronto        M5A                     Regent Park, Harbourfront   \n Downtown Toronto        M7A   Queen's Park, Ontario Provincial Government   \n Downtown Toronto        M5B                               Garden District   \n Downtown Toronto        M5C                                St. James Town   \n East Toronto            M4E                                   The Beaches   \n\n                    Latitude  Longitude  Cluster Labels 1st Most Common Venue  \\\nBorough                                                                         \n Downtown Toronto  43.654260 -79.360636               0           Coffee Shop   \n Downtown Toronto  43.662301 -79.389494               0           Coffee Shop   \n Downtown Toronto  43.657162 -79.378937               0           Coffee Shop   \n Downtown Toronto  43.651494 -79.375418               0                  Caf\u00e9   \n East Toronto      43.676357 -79.293031               0     Health Food Store   \n\n                  2nd Most Common Venue 3rd Most Common Venue  \\\nBorough                                                         \n Downtown Toronto                  Park                Bakery   \n Downtown Toronto                 Diner           Yoga Studio   \n Downtown Toronto        Clothing Store        Cosmetics Shop   \n Downtown Toronto           Coffee Shop          Cocktail Bar   \n East Toronto                     Trail                   Pub   \n\n                  4th Most Common Venue      5th Most Common Venue  \\\nBorough                                                              \n Downtown Toronto                   Pub             Breakfast Spot   \n Downtown Toronto              Beer Bar        Distribution Center   \n Downtown Toronto       Bubble Tea Shop  Middle Eastern Restaurant   \n Downtown Toronto   American Restaurant                   Beer Bar   \n East Toronto             Women's Store              Deli / Bodega   \n\n                  6th Most Common Venue        7th Most Common Venue  \\\nBorough                                                                \n Downtown Toronto                  Caf\u00e9           Mexican Restaurant   \n Downtown Toronto        Discount Store           Mexican Restaurant   \n Downtown Toronto   Japanese Restaurant           Italian Restaurant   \n Downtown Toronto    Italian Restaurant                        Hotel   \n East Toronto         Electronics Store  Eastern European Restaurant   \n\n                  8th Most Common Venue 9th Most Common Venue  \\\nBorough                                                         \n Downtown Toronto        Farmers Market        Chocolate Shop   \n Downtown Toronto                   Bar                  Bank   \n Downtown Toronto                  Caf\u00e9  Fast Food Restaurant   \n Downtown Toronto            Restaurant                 Diner   \n East Toronto       Dumpling Restaurant            Donut Shop   \n\n                  10th Most Common Venue  \nBorough                                   \n Downtown Toronto      French Restaurant  \n Downtown Toronto                   Caf\u00e9  \n Downtown Toronto      Electronics Store  \n Downtown Toronto         Cosmetics Shop  \n East Toronto           Doner Restaurant  "
                    },
                    "execution_count": 240,
                    "metadata": {},
                    "output_type": "execute_result"
                }
            ],
            "source": "toronto_data = df.set_index('Borough').filter(regex=\".*Toronto\",axis=0)\n\n\ntoronto_venues = getNearbyVenues(names=toronto_data['Neighborhood'],\n                                   latitudes=toronto_data['Latitude'],\n                                   longitudes=toronto_data['Longitude']\n                                  )\n\ntoronto_onehot = pd.get_dummies(toronto_venues[['Venue Category']], prefix=\"\", prefix_sep=\"\")\n\n\ntoronto_onehot['Neighborhood'] = toronto_venues['Neighborhood'] \n\n\nfixed_columns = [toronto_onehot.columns[-1]] + list(toronto_onehot.columns[:-1])\ntoronto_onehot = toronto_onehot[fixed_columns]\n\ntoronto_grouped = toronto_onehot.groupby('Neighborhood').mean().reset_index()\n\nnum_top_venues = 10\n\nindicators = ['st', 'nd', 'rd']\n\n# create columns according to number of top venues\ncolumns = ['Neighborhood']\nfor ind in np.arange(num_top_venues):\n    try:\n        columns.append('{}{} Most Common Venue'.format(ind+1, indicators[ind]))\n    except:\n        columns.append('{}th Most Common Venue'.format(ind+1))\n\n# create a new dataframe\nneighborhoods_venues_sorted = pd.DataFrame(columns=columns)\nneighborhoods_venues_sorted['Neighborhood'] = toronto_grouped['Neighborhood']\n\nfor ind in np.arange(toronto_grouped.shape[0]):\n    neighborhoods_venues_sorted.iloc[ind, 1:] = return_most_common_venues(toronto_grouped.iloc[ind, :], num_top_venues)\n\nneighborhoods_venues_sorted.head()\n\n# set number of clusters\nkclusters = 5\n\ntoronto_grouped_clustering = toronto_grouped.drop('Neighborhood', 1)\n\n# run k-means clustering\nkmeans = KMeans(n_clusters=kclusters, random_state=0).fit(toronto_grouped_clustering)\n\n# check cluster labels generated for each row in the dataframe\nkmeans.labels_[0:10] \n\n\n\n# add clustering labels\nneighborhoods_venues_sorted.insert(0, 'Cluster Labels', kmeans.labels_)\n\ntoronto_merged = toronto_data\n\n# merge toronto_grouped with toronto_data to add latitude/longitude for each neighborhood\ntoronto_merged = toronto_merged.join(neighborhoods_venues_sorted.set_index('Neighborhood'), on='Neighborhood')\n\ntoronto_merged.head() # check the last columns!"
        },
        {
            "cell_type": "code",
            "execution_count": null,
            "metadata": {},
            "outputs": [],
            "source": ""
        }
    ],
    "metadata": {
        "kernelspec": {
            "display_name": "Python 3.6",
            "language": "python",
            "name": "python3"
        },
        "language_info": {
            "codemirror_mode": {
                "name": "ipython",
                "version": 3
            },
            "file_extension": ".py",
            "mimetype": "text/x-python",
            "name": "python",
            "nbconvert_exporter": "python",
            "pygments_lexer": "ipython3",
            "version": "3.6.9"
        }
    },
    "nbformat": 4,
    "nbformat_minor": 1
}